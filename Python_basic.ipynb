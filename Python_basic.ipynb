{
  "nbformat": 4,
  "nbformat_minor": 0,
  "metadata": {
    "colab": {
      "provenance": []
    },
    "kernelspec": {
      "name": "python3",
      "display_name": "Python 3"
    },
    "language_info": {
      "name": "python"
    }
  },
  "cells": [
    {
      "cell_type": "markdown",
      "source": [
        "PYTHON BASIC ASSIGNMENT\n",
        "  1) What is Python, and why is it popular?\n",
        "   - Python is a high-level, interpreted programming language that is widely used for general-purpose programming. It is generally famous as it bignner friendly as it use a simple english language,Versatile,Large Community Support and Large Amount of libraries.\n",
        "2) What is an interpreter in Python ?\n",
        "  - It is used to translate high level language to low level language and execute the code line by line.\n",
        "3) What are pre-defined keywords in Python?\n",
        "- In Python, pre-defined keywords are the special words that have fixed meanings and are reserved by the Python language.generally thier are 35 pre-defined keywords for example:True , False, None, if,else etc.\n",
        "4) Can keywords be used as variable names?\n",
        " - No, keywords cannot be used as variable names in Python because they are reserved words that the Python interpreter uses to understand the code structure.\n",
        "5) What is mutability in Python?\n",
        "-  Mutability means where we can change the object's value. list is type of mutable objects.\n",
        "6) Why are lists mutable, but tuples are immutable?\n",
        "- A list is designed to store a collection of items where you often need to add, remove, or change elements so because of this flexibility, Python makes lists mutable.While a tuple is meant to be a fixed collection of items. therefor python makes tuples immutable for data safety and tuples can also be used as keys in dictionaries."
      ],
      "metadata": {
        "id": "1zrz-0JrTYC2"
      }
    },
    {
      "cell_type": "markdown",
      "source": [
        "7) What is the difference between “==” and “is” operators in Python?\n",
        "- \"==\" is Equality operator. It is used to compares the values of two objects. \"is\" is Identity operator. It is used to compares the location in memory.\n",
        "8) What are logical operators in Python?\n",
        "- Logical operators are used to combine conditional statements and return a boolean value (True or False).Python has three logical operators:Logical AND , Logical OR , Logical NOT.\n",
        "9) What is type casting in Python?\n",
        "-  The Process of changing the data type of a variable or objects from one type to another.\n",
        "10) What is the difference between implicit and explicit type casting?\n",
        "- Implicit is the automatic conversion of one data type into another by Python during an operation, usually converting a smaller data type into a larger one to prevent data loss.While Explicit is the manual conversion of one data type into another by the programmer using built-in functions like int(), float(), str(), list(), etc.\n",
        "11) What is the purpose of conditional statements in Python?\n",
        "-  Conditional statements in Python are used to make decisions in a program. They allow the code to execute different blocks of instructions depending on whether a condition is True or False.\n",
        "12) How does the elif statement work?\n",
        "- It is used when you want to check multiple conditions in sequence.Python will check each condition from top to bottom, and the first condition that is True will run.\n",
        "13) What is the difference between for and while loops?\n",
        "- \"While loops\" runs as long as the condition is True while \"For loops\" iterates over a sequence (list, tuple, string, range, etc.) and automatically ends when the sequence is finished.\n",
        "14) Describe a scenario where a while loop is more suitable than a for loop ?\n",
        "- \"while loops\" is best suited for checking or login where result will not get updated still we not provide the correct password. It can also be used to write a code for ATM machine where we have to provide the true condition to withdraw  the cash from the  ATM."
      ],
      "metadata": {
        "id": "vjReaimEXBd1"
      }
    },
    {
      "cell_type": "code",
      "source": [
        "# PRACTICAL QUESTION\n",
        "# 1) Write a Python program to print \"Hello World!\"\n",
        "a= \"Hello World\"\n",
        "print(a)"
      ],
      "metadata": {
        "colab": {
          "base_uri": "https://localhost:8080/"
        },
        "id": "dN5sbJBEj7j7",
        "outputId": "b92102bf-d3e1-42f7-9088-cb568410a423"
      },
      "execution_count": 1,
      "outputs": [
        {
          "output_type": "stream",
          "name": "stdout",
          "text": [
            "Hello World\n"
          ]
        }
      ]
    },
    {
      "cell_type": "code",
      "source": [
        "# 2) Write a Python program that displays your name and age\n",
        "name = \"sandesh\"\n",
        "age= 23\n",
        "print(name,age)"
      ],
      "metadata": {
        "colab": {
          "base_uri": "https://localhost:8080/"
        },
        "id": "FJQl2FiElHcJ",
        "outputId": "c95bea69-2cf6-4957-e139-e897ca536161"
      },
      "execution_count": 2,
      "outputs": [
        {
          "output_type": "stream",
          "name": "stdout",
          "text": [
            "sandesh 23\n"
          ]
        }
      ]
    },
    {
      "cell_type": "code",
      "source": [
        "#Write code to print all the pre-defined keywords in Python using the keyword library\n",
        "import keywords\n",
        "print(\"python keywords:\")\n",
        "print(keyword.kwlist)\n",
        "print(len(keyword.kwlist))"
      ],
      "metadata": {
        "colab": {
          "base_uri": "https://localhost:8080/"
        },
        "id": "T8jNSyOPl03T",
        "outputId": "0a5744de-2a9c-4fe5-8467-aad4743c718f"
      },
      "execution_count": 5,
      "outputs": [
        {
          "output_type": "stream",
          "name": "stdout",
          "text": [
            "python keywords:\n",
            "['False', 'None', 'True', 'and', 'as', 'assert', 'async', 'await', 'break', 'class', 'continue', 'def', 'del', 'elif', 'else', 'except', 'finally', 'for', 'from', 'global', 'if', 'import', 'in', 'is', 'lambda', 'nonlocal', 'not', 'or', 'pass', 'raise', 'return', 'try', 'while', 'with', 'yield']\n",
            "35\n"
          ]
        }
      ]
    },
    {
      "cell_type": "code",
      "source": [
        "#4) Write a program that checks if a given word is a Python keyword\n",
        "import keyword\n",
        "word =input(\"enter a word:\")\n",
        "if keyword.iskeyword(word):\n",
        "  print('it is keyword')\n",
        "else:\n",
        "  print('it is not keyword')"
      ],
      "metadata": {
        "colab": {
          "base_uri": "https://localhost:8080/"
        },
        "id": "eq8Lc8j3pQ_D",
        "outputId": "77e82c26-74b4-416d-9d2b-1a7e59ab5a4b"
      },
      "execution_count": 39,
      "outputs": [
        {
          "output_type": "stream",
          "name": "stdout",
          "text": [
            "enter a word:not\n",
            "it is keyword\n"
          ]
        }
      ]
    },
    {
      "cell_type": "code",
      "source": [
        "#5)Create a list and tuple in Python and demonstrate how attempting to change an element works differently for each.\n",
        "\n",
        "# Create a list\n",
        "my_list = [1, 2, 3, 4, 5]\n",
        "print(\"Original list:\", my_list)\n",
        "\n",
        "# Attempt to change an element in the list\n",
        "my_list[2] = 10\n",
        "print(\"List after changing an element:\", my_list)\n",
        "\n",
        "# Create a tuple\n",
        "my_tuple = (1, 2, 3, 4, 5)\n",
        "print(\"\\nOriginal tuple:\", my_tuple)\n",
        "\n",
        "# Attempt to change an element in the tuple\n",
        "try:\n",
        "  my_tuple[2] = 10\n",
        "except TypeError as e:\n",
        "  print(\"Error when attempting to change an element in the tuple:\", e)"
      ],
      "metadata": {
        "colab": {
          "base_uri": "https://localhost:8080/"
        },
        "id": "ZfKtrR6IthN3",
        "outputId": "26807ade-975d-44f6-9b6b-0f3b23f1ef94"
      },
      "execution_count": 25,
      "outputs": [
        {
          "output_type": "stream",
          "name": "stdout",
          "text": [
            "Original list: [1, 2, 3, 4, 5]\n",
            "List after changing an element: [1, 2, 10, 4, 5]\n",
            "\n",
            "Original tuple: (1, 2, 3, 4, 5)\n",
            "Error when attempting to change an element in the tuple: 'tuple' object does not support item assignment\n"
          ]
        }
      ]
    },
    {
      "cell_type": "code",
      "source": [
        "#6)Write a function to demonstrate the behavior of mutable and immutable arguments\n",
        "my_list = [1, 2, 3]\n",
        "modify_list(my_list)\n",
        "print(my_list)\n",
        "def modify_list(my_list):\n",
        "  my_list.append(6)"
      ],
      "metadata": {
        "colab": {
          "base_uri": "https://localhost:8080/"
        },
        "id": "94xJRm8lxGWE",
        "outputId": "d527d10e-c72e-4ac8-9357-db8364329acb"
      },
      "execution_count": 42,
      "outputs": [
        {
          "output_type": "stream",
          "name": "stdout",
          "text": [
            "[1, 2, 3, 6]\n"
          ]
        }
      ]
    },
    {
      "cell_type": "code",
      "source": [
        "#7) Write a program that performs basic arithmetic operations on two user-input numbers\n",
        "a= 23\n",
        "b= 34\n",
        "print(a+b)\n",
        "print(a-b)\n",
        "print(a*b)\n",
        "print(a/b)"
      ],
      "metadata": {
        "colab": {
          "base_uri": "https://localhost:8080/"
        },
        "id": "yp8ObRh2xQD3",
        "outputId": "0196622f-ca50-4863-9bcb-86d8c451d321"
      },
      "execution_count": 7,
      "outputs": [
        {
          "output_type": "stream",
          "name": "stdout",
          "text": [
            "57\n",
            "-11\n",
            "782\n",
            "0.6764705882352942\n"
          ]
        }
      ]
    },
    {
      "cell_type": "code",
      "source": [
        "#8) Write a program to demonstrate the use of logical operators.\n",
        "a=25\n",
        "b=23\n",
        "print(a>20 and b>10)\n",
        "print(a>20 or b<10)"
      ],
      "metadata": {
        "colab": {
          "base_uri": "https://localhost:8080/"
        },
        "id": "DA7PyYYn1SKy",
        "outputId": "6c0ab4be-cc05-45a4-80e8-8561b502af37"
      },
      "execution_count": 12,
      "outputs": [
        {
          "output_type": "stream",
          "name": "stdout",
          "text": [
            "True\n",
            "True\n"
          ]
        }
      ]
    },
    {
      "cell_type": "code",
      "source": [
        "#9) Write a Python program to convert user input from string to integer, float, and boolean types\n",
        "x=\"29\"\n",
        "print(int(x))\n",
        "print(float(x))\n",
        "print(bool(x))"
      ],
      "metadata": {
        "colab": {
          "base_uri": "https://localhost:8080/"
        },
        "id": "6KyFLXRu2xvR",
        "outputId": "befb49cf-7575-4b64-8d0d-aabd9f459119"
      },
      "execution_count": 13,
      "outputs": [
        {
          "output_type": "stream",
          "name": "stdout",
          "text": [
            "29\n",
            "29.0\n",
            "True\n"
          ]
        }
      ]
    },
    {
      "cell_type": "code",
      "source": [
        "#10) Write code to demonstrate type casting with list elements\n",
        "data = [\"10\", \"20\", \"30\", 40, 50.5]\n",
        "print(\"Original list:\", data)\n",
        "\n",
        "int_list = [int(float(x)) for x in data]\n",
        "print(\"List after casting to int:\", int_list)"
      ],
      "metadata": {
        "colab": {
          "base_uri": "https://localhost:8080/"
        },
        "id": "o1SBvn4c4BOX",
        "outputId": "59774c3a-4994-4d62-b1e7-d94c2c7dc88b"
      },
      "execution_count": 14,
      "outputs": [
        {
          "output_type": "stream",
          "name": "stdout",
          "text": [
            "Original list: ['10', '20', '30', 40, 50.5]\n",
            "List after casting to int: [10, 20, 30, 40, 50]\n"
          ]
        }
      ]
    },
    {
      "cell_type": "code",
      "source": [
        "#11) Write a program that checks if a number is positive, negative, or zero\n",
        "num=int(input(\"enter the number\"))\n",
        "if num>0:\n",
        "  print('Positive')\n",
        "elif num<0:\n",
        "  print('Negative')\n",
        "else:\n",
        "  print('Zero')"
      ],
      "metadata": {
        "colab": {
          "base_uri": "https://localhost:8080/"
        },
        "id": "TUPQNndg7XJW",
        "outputId": "92e3108b-dd9e-4fa7-c4f8-65d17b328f25"
      },
      "execution_count": 19,
      "outputs": [
        {
          "output_type": "stream",
          "name": "stdout",
          "text": [
            "enter the number24\n",
            "Positive\n"
          ]
        }
      ]
    },
    {
      "cell_type": "code",
      "source": [
        "#12) Write a for loop to print numbers from 1 to 10.\n",
        "for a  in range(1,11):\n",
        "  print(a)"
      ],
      "metadata": {
        "colab": {
          "base_uri": "https://localhost:8080/"
        },
        "id": "9O8pnosl-8LI",
        "outputId": "0c755271-49a7-4148-8de3-b88d585f6976"
      },
      "execution_count": 23,
      "outputs": [
        {
          "output_type": "stream",
          "name": "stdout",
          "text": [
            "1\n",
            "2\n",
            "3\n",
            "4\n",
            "5\n",
            "6\n",
            "7\n",
            "8\n",
            "9\n",
            "10\n"
          ]
        }
      ]
    },
    {
      "cell_type": "code",
      "source": [
        "#13)Write a Python program to find the sum of all even numbers between 1 and 50\n",
        "i=1\n",
        "total= 0\n",
        "while i<=50:\n",
        "  if i%2==0:\n",
        "    total +=i\n",
        "  i +=1\n",
        "print(\"The sum of even numbers from 1 to 50 is:\" , total)"
      ],
      "metadata": {
        "colab": {
          "base_uri": "https://localhost:8080/"
        },
        "id": "S_otvJ00Lfbl",
        "outputId": "1b8244de-783d-4331-81d0-f20c9f98e655"
      },
      "execution_count": 38,
      "outputs": [
        {
          "output_type": "stream",
          "name": "stdout",
          "text": [
            "The sum of even numbers from 1 to 50 is: 650\n"
          ]
        }
      ]
    },
    {
      "cell_type": "code",
      "source": [
        "#14). Write a program to reverse a string using a while loop\n",
        "text=input(\"enter the string:\")\n",
        "reverse=\"\"\n",
        "length=len(text)\n",
        "while length>0:\n",
        "  reverse+=text[length-1]\n",
        "  length=length-1\n",
        "print(reverse)"
      ],
      "metadata": {
        "colab": {
          "base_uri": "https://localhost:8080/"
        },
        "id": "GWlPVNQnA1Nx",
        "outputId": "43d02420-95a2-48e2-a626-f197a8b505fa"
      },
      "execution_count": 35,
      "outputs": [
        {
          "output_type": "stream",
          "name": "stdout",
          "text": [
            "enter the string:sandesh\n",
            "hsednas\n"
          ]
        }
      ]
    },
    {
      "cell_type": "code",
      "source": [
        "#15)  Write a Python program to calculate the factorial of a number provided by the user using a while loop.\n",
        "num=int(input(\"enter the number:\"))\n",
        "factorial=1\n",
        "i=1\n",
        "while i<=num:\n",
        "  factorial *=i\n",
        "  i+=1\n",
        "print(f\"the factorial of (num) is {factorial}\")"
      ],
      "metadata": {
        "colab": {
          "base_uri": "https://localhost:8080/"
        },
        "id": "5hbVqmF4BOHV",
        "outputId": "67037982-f07e-4f9f-b13d-53b68de21c5b"
      },
      "execution_count": 34,
      "outputs": [
        {
          "output_type": "stream",
          "name": "stdout",
          "text": [
            "enter the number:5\n",
            "the factorial of (num) is 120\n"
          ]
        }
      ]
    }
  ]
}